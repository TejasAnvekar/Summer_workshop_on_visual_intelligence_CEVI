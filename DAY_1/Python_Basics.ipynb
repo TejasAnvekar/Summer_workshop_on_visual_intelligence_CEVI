{
 "cells": [
  {
   "cell_type": "markdown",
   "metadata": {
    "id": "BOgDzyMPFjCu"
   },
   "source": [
    "# **Python** Basics \n",
    "\n",
    "\n",
    "\n",
    "\n",
    "![cevi.png](data:image/png;base64,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)\n",
    "\n",
    "Day 1 <br>\n",
    "1/8/2021 <br>\n",
    "code by Tejas Anvekar <br>\n",
    "Speaker Dikshit Hegde  \n"
   ]
  },
  {
   "cell_type": "markdown",
   "metadata": {
    "id": "qVrTo-LhL9eS"
   },
   "source": [
    "##Introduction"
   ]
  },
  {
   "cell_type": "markdown",
   "metadata": {
    "id": "9t1gKp9PL9eV"
   },
   "source": [
    "Python is a great general-purpose programming language on its own, but with the help of a few popular libraries (numpy, scipy, matplotlib,opencv) it becomes a powerful environment for scientific computing.\n",
    "\n",
    "We expect that many of you will have some experience with Python and numpy; for the rest of you, this section will serve as a quick crash course both on the Python programming language and on the use of Python for scientific computing.\n",
    "\n",
    "\n",
    "Reference Documents\n",
    "\n",
    "python     : https://docs.python.org/3/tutorial/index.html <br>\n",
    "numpy      : https://numpy.org/learn/                       <br>\n",
    "matplotlib : https://matplotlib.org/stable/tutorials/index.html <br>\n",
    "opencv     : https://docs.opencv.org/master/d6/d00/tutorial_py_root.html"
   ]
  },
  {
   "cell_type": "markdown",
   "metadata": {
    "id": "U1PvreR9L9eW"
   },
   "source": [
    "In this tutorial, we will cover:\n",
    "\n",
    "* Basic Python: Basic data types (Containers, Lists, Dictionaries, Sets, Tuples), Functions, Classes\n",
    "* Numpy: Arrays, Array indexing, Datatypes, Array math, Broadcasting\n",
    "* Matplotlib: Plotting, Subplots, Images\n",
    "* IPython: Creating notebooks, Typical workflows"
   ]
  },
  {
   "cell_type": "markdown",
   "metadata": {
    "id": "nxvEkGXPM3Xh"
   },
   "source": [
    "## A Brief Note on Python Versions\n",
    "\n",
    "As of Janurary 1, 2020, Python has [officially dropped support](https://www.python.org/doc/sunset-python-2/) for `python2`. We'll be using Python 3.7 for this iteration of the course. You can check your Python version at the command line by running `python --version`. In Colab, we can enforce the Python version by clicking `Runtime -> Change Runtime Type` and selecting `python3`. Note that as of April 2020, Colab uses Python 3.6.9 which should run everything without any errors."
   ]
  },
  {
   "cell_type": "code",
   "execution_count": null,
   "metadata": {
    "colab": {
     "base_uri": "https://localhost:8080/",
     "height": 34
    },
    "id": "1L4Am0QATgOc",
    "outputId": "bb5ee3ac-8683-44ab-e599-a2077510f327"
   },
   "outputs": [],
   "source": [
    "!python --version"
   ]
  },
  {
   "cell_type": "code",
   "execution_count": null,
   "metadata": {
    "colab": {
     "base_uri": "https://localhost:8080/"
    },
    "id": "fwlsG5FzkaaX",
    "outputId": "2121cbfb-0262-403e-9670-56149db04fa8"
   },
   "outputs": [],
   "source": [
    "from google.colab import drive\n",
    "drive.mount('/content/drive')"
   ]
  },
  {
   "cell_type": "markdown",
   "metadata": {
    "id": "JAFKYgrpL9eY"
   },
   "source": [
    "## Basics of Python"
   ]
  },
  {
   "cell_type": "markdown",
   "metadata": {
    "id": "RbFS6tdgL9ea"
   },
   "source": [
    "Python is a high-level, dynamically typed multiparadigm programming language. Python code is often said to be almost like pseudocode, since it allows you to express very powerful ideas in very few lines of code while being very readable. As an example, here is an implementation of the classic quicksort algorithm in Python:"
   ]
  },
  {
   "cell_type": "code",
   "execution_count": null,
   "metadata": {
    "colab": {
     "base_uri": "https://localhost:8080/",
     "height": 34
    },
    "id": "cYb0pjh1L9eb",
    "outputId": "9a8e37de-1dc1-4092-faee-06ad4ff2d73a"
   },
   "outputs": [],
   "source": [
    "def quicksort(arr):\n",
    "    if len(arr) <= 1:\n",
    "        return arr\n",
    "    pivot = arr[len(arr) // 2]\n",
    "    left = [x for x in arr if x < pivot]\n",
    "    middle = [x for x in arr if x == pivot]\n",
    "    right = [x for x in arr if x > pivot]\n",
    "    return quicksort(left) + middle + quicksort(right)\n",
    "\n",
    "print(quicksort([3,6,8,10,1,2,1]))"
   ]
  },
  {
   "cell_type": "markdown",
   "metadata": {
    "id": "NwS_hu4xL9eo"
   },
   "source": [
    "### Basic data types"
   ]
  },
  {
   "cell_type": "markdown",
   "metadata": {
    "id": "DL5sMSZ9L9eq"
   },
   "source": [
    "#### Numbers"
   ]
  },
  {
   "cell_type": "markdown",
   "metadata": {
    "id": "MGS0XEWoL9er"
   },
   "source": [
    "Integers and floats work as you would expect from other languages:"
   ]
  },
  {
   "cell_type": "code",
   "execution_count": null,
   "metadata": {
    "colab": {
     "base_uri": "https://localhost:8080/"
    },
    "id": "KheDr_zDL9es",
    "outputId": "4ace3637-bafb-458e-d3df-dbe60d3eb8f0"
   },
   "outputs": [],
   "source": [
    "x = 3\n",
    "print(x, type(x))"
   ]
  },
  {
   "cell_type": "code",
   "execution_count": null,
   "metadata": {
    "colab": {
     "base_uri": "https://localhost:8080/"
    },
    "id": "sk_8DFcuL9ey",
    "outputId": "f7203377-f965-4f37-8e8c-0886a558301f"
   },
   "outputs": [],
   "source": [
    "print(x + 1)   # Addition\n",
    "print(x - 1)   # Subtraction\n",
    "print(x * 2)   # Multiplication\n",
    "print(x ** 2)  # Exponentiation"
   ]
  },
  {
   "cell_type": "code",
   "execution_count": null,
   "metadata": {
    "colab": {
     "base_uri": "https://localhost:8080/"
    },
    "id": "U4Jl8K0tL9e4",
    "outputId": "edb504c5-36cf-48a9-bce5-4c047442fd92"
   },
   "outputs": [],
   "source": [
    "x += 1\n",
    "print(x)\n",
    "x *= 2\n",
    "print(x)"
   ]
  },
  {
   "cell_type": "code",
   "execution_count": null,
   "metadata": {
    "colab": {
     "base_uri": "https://localhost:8080/"
    },
    "id": "w-nZ0Sg_L9e9",
    "outputId": "fed32435-d789-4397-ac65-df9235b9bcd3"
   },
   "outputs": [],
   "source": [
    "y = 2.5\n",
    "print(type(y))\n",
    "print(y, y + 1, y * 2, y ** 2)"
   ]
  },
  {
   "cell_type": "markdown",
   "metadata": {
    "id": "r2A9ApyaL9fB"
   },
   "source": [
    "Note that unlike many languages, Python does not have unary increment (x++) or decrement (x--) operators.\n",
    "\n",
    "Python also has built-in types for long integers and complex numbers; you can find all of the details in the [documentation](https://docs.python.org/3.7/library/stdtypes.html#numeric-types-int-float-long-complex)."
   ]
  },
  {
   "cell_type": "markdown",
   "metadata": {
    "id": "EqRS7qhBL9fC"
   },
   "source": [
    "#### Booleans"
   ]
  },
  {
   "cell_type": "markdown",
   "metadata": {
    "id": "Nv_LIVOJL9fD"
   },
   "source": [
    "Python implements all of the usual operators for Boolean logic, but uses English words rather than symbols (`&&`, `||`, etc.):"
   ]
  },
  {
   "cell_type": "code",
   "execution_count": null,
   "metadata": {
    "colab": {
     "base_uri": "https://localhost:8080/"
    },
    "id": "RvoImwgGL9fE",
    "outputId": "1da8beaf-567f-4611-e9f9-f6a113314adc"
   },
   "outputs": [],
   "source": [
    "t, f = True, False\n",
    "print(type(t))"
   ]
  },
  {
   "cell_type": "markdown",
   "metadata": {
    "id": "YQgmQfOgL9fI"
   },
   "source": [
    "Now we let's look at the operations:"
   ]
  },
  {
   "cell_type": "code",
   "execution_count": null,
   "metadata": {
    "colab": {
     "base_uri": "https://localhost:8080/"
    },
    "id": "6zYm7WzCL9fK",
    "outputId": "75093ee0-ed3b-4c0e-eae8-1374aad869d2"
   },
   "outputs": [],
   "source": [
    "print(t and f) # Logical AND;\n",
    "print(t or f)  # Logical OR;\n",
    "print(not t)   # Logical NOT;\n",
    "print(t != f)  # Logical XOR;"
   ]
  },
  {
   "cell_type": "markdown",
   "metadata": {
    "id": "UQnQWFEyL9fP"
   },
   "source": [
    "#### Strings"
   ]
  },
  {
   "cell_type": "code",
   "execution_count": null,
   "metadata": {
    "colab": {
     "base_uri": "https://localhost:8080/"
    },
    "id": "AijEDtPFL9fP",
    "outputId": "81a47792-70c8-443d-8531-c2f407cff363"
   },
   "outputs": [],
   "source": [
    "hello = 'hello'   # String literals can use single quotes\n",
    "world = \"world\"   # or double quotes; it does not matter\n",
    "print(hello, len(hello))"
   ]
  },
  {
   "cell_type": "code",
   "execution_count": null,
   "metadata": {
    "colab": {
     "base_uri": "https://localhost:8080/"
    },
    "id": "saDeaA7hL9fT",
    "outputId": "0189ff00-16bc-43a7-f525-89279180c1a8"
   },
   "outputs": [],
   "source": [
    "hw = hello + ' ' + world  # String concatenation\n",
    "print(hw)"
   ]
  },
  {
   "cell_type": "code",
   "execution_count": null,
   "metadata": {
    "colab": {
     "base_uri": "https://localhost:8080/"
    },
    "id": "Nji1_UjYL9fY",
    "outputId": "cd45f7b6-de6a-4d0b-814a-03d621d309a0"
   },
   "outputs": [],
   "source": [
    "hw12 = '{} {} {}'.format(hello, world, 12)  # string formatting\n",
    "print(hw12)"
   ]
  },
  {
   "cell_type": "markdown",
   "metadata": {
    "id": "bUpl35bIL9fc"
   },
   "source": [
    "String objects have a bunch of useful methods; for example:"
   ]
  },
  {
   "cell_type": "code",
   "execution_count": null,
   "metadata": {
    "colab": {
     "base_uri": "https://localhost:8080/"
    },
    "id": "VOxGatlsL9fd",
    "outputId": "39795959-66e4-4852-f9c2-213e0ff61dfe"
   },
   "outputs": [],
   "source": [
    "s = \"hello\"\n",
    "print(s.capitalize())  # Capitalize a string\n",
    "print(s.upper())       # Convert a string to uppercase; prints \"HELLO\"\n",
    "print(s.rjust(7))      # Right-justify a string, padding with spaces\n",
    "print(s.center(7))     # Center a string, padding with spaces\n",
    "print(s.replace('l', '(ell)'))  # Replace all instances of one substring with another\n",
    "print('  world '.strip())  # Strip leading and trailing whitespace"
   ]
  },
  {
   "cell_type": "markdown",
   "metadata": {
    "id": "06cayXLtL9fi"
   },
   "source": [
    "You can find a list of all string methods in the [documentation](https://docs.python.org/3.7/library/stdtypes.html#string-methods)."
   ]
  },
  {
   "cell_type": "markdown",
   "metadata": {
    "id": "p-6hClFjL9fk"
   },
   "source": [
    "### Containers"
   ]
  },
  {
   "cell_type": "markdown",
   "metadata": {
    "id": "FD9H18eQL9fk"
   },
   "source": [
    "Python includes several built-in container types: lists, dictionaries, sets, and tuples."
   ]
  },
  {
   "cell_type": "markdown",
   "metadata": {
    "id": "UsIWOe0LL9fn"
   },
   "source": [
    "#### Lists"
   ]
  },
  {
   "cell_type": "markdown",
   "metadata": {
    "id": "wzxX7rgWL9fn"
   },
   "source": [
    "A list is the Python equivalent of an array, but is resizeable and can contain elements of different types:"
   ]
  },
  {
   "cell_type": "code",
   "execution_count": null,
   "metadata": {
    "colab": {
     "base_uri": "https://localhost:8080/"
    },
    "id": "hk3A8pPcL9fp",
    "outputId": "d6c724ce-ed13-41cd-e99b-d40bd222963e"
   },
   "outputs": [],
   "source": [
    "xs = [3, 1, 2]   # Create a list\n",
    "print(xs, xs[2])\n",
    "print(xs[-1])     # Negative indices count from the end of the list; prints \"2\""
   ]
  },
  {
   "cell_type": "code",
   "execution_count": null,
   "metadata": {
    "colab": {
     "base_uri": "https://localhost:8080/"
    },
    "id": "YCjCy_0_L9ft",
    "outputId": "862fdec0-c45a-45b2-8a7a-011f68b370ba"
   },
   "outputs": [],
   "source": [
    "xs[2] = 'foo'    # Lists can contain elements of different types\n",
    "print(xs)"
   ]
  },
  {
   "cell_type": "code",
   "execution_count": null,
   "metadata": {
    "colab": {
     "base_uri": "https://localhost:8080/"
    },
    "id": "vJ0x5cF-L9fx",
    "outputId": "2b64d78b-d058-4cd4-9a65-ae3665d3eb6e"
   },
   "outputs": [],
   "source": [
    "xs.append('bar') # Add a new element to the end of the list\n",
    "print(xs)  "
   ]
  },
  {
   "cell_type": "code",
   "execution_count": null,
   "metadata": {
    "colab": {
     "base_uri": "https://localhost:8080/"
    },
    "id": "cxVCNRTNL9f1",
    "outputId": "55b82f45-a619-4be3-b238-06e655834205"
   },
   "outputs": [],
   "source": [
    "x = xs.pop()     # Remove and return the last element of the list\n",
    "print(x, xs)"
   ]
  },
  {
   "cell_type": "markdown",
   "metadata": {
    "id": "ilyoyO34L9f4"
   },
   "source": [
    "As usual, you can find all the gory details about lists in the [documentation](https://docs.python.org/3.7/tutorial/datastructures.html#more-on-lists)."
   ]
  },
  {
   "cell_type": "markdown",
   "metadata": {
    "id": "ovahhxd_L9f5"
   },
   "source": [
    "#### Slicing"
   ]
  },
  {
   "cell_type": "markdown",
   "metadata": {
    "id": "YeSYKhv9L9f6"
   },
   "source": [
    "In addition to accessing list elements one at a time, Python provides concise syntax to access sublists; this is known as slicing:"
   ]
  },
  {
   "cell_type": "code",
   "execution_count": null,
   "metadata": {
    "colab": {
     "base_uri": "https://localhost:8080/"
    },
    "id": "ninq666bL9f6",
    "outputId": "2bf17791-4ceb-47ad-e684-7275087d9365"
   },
   "outputs": [],
   "source": [
    "nums = list(range(5))    # range is a built-in function that creates a list of integers\n",
    "print(nums)         # Prints \"[0, 1, 2, 3, 4]\"\n",
    "print(nums[2:4])    # Get a slice from index 2 to 4 (exclusive); prints \"[2, 3]\"\n",
    "print(nums[2:])     # Get a slice from index 2 to the end; prints \"[2, 3, 4]\"\n",
    "print(nums[:2])     # Get a slice from the start to index 2 (exclusive); prints \"[0, 1]\"\n",
    "print(nums[:])      # Get a slice of the whole list; prints [\"0, 1, 2, 3, 4]\"\n",
    "print(nums[:-1])    # Slice indices can be negative; prints [\"0, 1, 2, 3]\"\n",
    "nums[2:4] = [8, 9] # Assign a new sublist to a slice\n",
    "print(nums)         # Prints \"[0, 1, 8, 9, 4]\""
   ]
  },
  {
   "cell_type": "markdown",
   "metadata": {
    "id": "UONpMhF4L9f_"
   },
   "source": [
    "#### Loops"
   ]
  },
  {
   "cell_type": "markdown",
   "metadata": {
    "id": "_DYz1j6QL9f_"
   },
   "source": [
    "You can loop over the elements of a list like this:"
   ]
  },
  {
   "cell_type": "code",
   "execution_count": null,
   "metadata": {
    "colab": {
     "base_uri": "https://localhost:8080/"
    },
    "id": "4cCOysfWL9gA",
    "outputId": "5d8a0eeb-d221-4e13-e199-b82d3fb9afd6"
   },
   "outputs": [],
   "source": [
    "animals = ['cat', 'dog', 'monkey']\n",
    "for animal in animals:\n",
    "    print(animal)"
   ]
  },
  {
   "cell_type": "markdown",
   "metadata": {
    "id": "KxIaQs7pL9gE"
   },
   "source": [
    "If you want access to the index of each element within the body of a loop, use the built-in `enumerate` function:"
   ]
  },
  {
   "cell_type": "code",
   "execution_count": null,
   "metadata": {
    "colab": {
     "base_uri": "https://localhost:8080/"
    },
    "id": "JjGnDluWL9gF",
    "outputId": "735eb505-abfa-4334-b7da-16bc642a5630"
   },
   "outputs": [],
   "source": [
    "animals = ['cat', 'dog', 'monkey']\n",
    "for idx, animal in enumerate(animals):\n",
    "    print('#{}: {}'.format(idx + 1, animal))"
   ]
  },
  {
   "cell_type": "markdown",
   "metadata": {
    "id": "arrLCcMyL9gK"
   },
   "source": [
    "#### List comprehensions:"
   ]
  },
  {
   "cell_type": "markdown",
   "metadata": {
    "id": "5Qn2jU_pL9gL"
   },
   "source": [
    "When programming, frequently we want to transform one type of data into another. As a simple example, consider the following code that computes square numbers:"
   ]
  },
  {
   "cell_type": "code",
   "execution_count": null,
   "metadata": {
    "colab": {
     "base_uri": "https://localhost:8080/"
    },
    "id": "IVNEwoMXL9gL",
    "outputId": "efcb5a23-d270-494d-ca2d-35eec1257afd"
   },
   "outputs": [],
   "source": [
    "nums = [0, 1, 2, 3, 4]\n",
    "squares = []\n",
    "for x in nums:\n",
    "    squares.append(x ** 2)\n",
    "print(squares)"
   ]
  },
  {
   "cell_type": "markdown",
   "metadata": {
    "id": "7DmKVUFaL9gQ"
   },
   "source": [
    "You can make this code simpler using a list comprehension:"
   ]
  },
  {
   "cell_type": "code",
   "execution_count": null,
   "metadata": {
    "colab": {
     "base_uri": "https://localhost:8080/"
    },
    "id": "kZxsUfV6L9gR",
    "outputId": "3f96abbc-137f-4aca-ba93-1a3c4175e8bb"
   },
   "outputs": [],
   "source": [
    "nums = [0, 1, 2, 3, 4]\n",
    "squares = [x ** 2 for x in nums]\n",
    "print(squares)"
   ]
  },
  {
   "cell_type": "markdown",
   "metadata": {
    "id": "-D8ARK7tL9gV"
   },
   "source": [
    "List comprehensions can also contain conditions:"
   ]
  },
  {
   "cell_type": "code",
   "execution_count": null,
   "metadata": {
    "colab": {
     "base_uri": "https://localhost:8080/"
    },
    "id": "yUtgOyyYL9gV",
    "outputId": "b57f9d63-ccf9-4546-b98a-add27b9ec94c"
   },
   "outputs": [],
   "source": [
    "nums = [0, 1, 2, 3, 4]\n",
    "even_squares = [x ** 2 for x in nums if x % 2 == 0]\n",
    "print(even_squares)"
   ]
  },
  {
   "cell_type": "markdown",
   "metadata": {
    "id": "H8xsUEFpL9gZ"
   },
   "source": [
    "#### Dictionaries"
   ]
  },
  {
   "cell_type": "markdown",
   "metadata": {
    "id": "kkjAGMAJL9ga"
   },
   "source": [
    "A dictionary stores (key, value) pairs, similar to a `Map` in Java or an object in Javascript. You can use it like this:"
   ]
  },
  {
   "cell_type": "code",
   "execution_count": null,
   "metadata": {
    "colab": {
     "base_uri": "https://localhost:8080/"
    },
    "id": "XBYI1MrYL9gb",
    "outputId": "54afe62c-003d-4511-ef03-656bf0cc7958"
   },
   "outputs": [],
   "source": [
    "d = {'cat': 'cute', 'dog': 'furry'}  # Create a new dictionary with some data\n",
    "print(d['cat'])       # Get an entry from a dictionary; prints \"cute\"\n",
    "print('cat' in d)     # Check if a dictionary has a given key; prints \"True\""
   ]
  },
  {
   "cell_type": "code",
   "execution_count": null,
   "metadata": {
    "colab": {
     "base_uri": "https://localhost:8080/"
    },
    "id": "pS7e-G-HL9gf",
    "outputId": "0fd396dc-cb01-4244-991e-d0b67cda6444"
   },
   "outputs": [],
   "source": [
    "d['fish'] = 'wet'    # Set an entry in a dictionary\n",
    "print(d['fish'])      # Prints \"wet\""
   ]
  },
  {
   "cell_type": "code",
   "execution_count": null,
   "metadata": {
    "colab": {
     "base_uri": "https://localhost:8080/",
     "height": 167
    },
    "id": "tFY065ItL9gi",
    "outputId": "086c5c76-7d27-40ae-f0e2-df49a1c609a5"
   },
   "outputs": [],
   "source": [
    "print(d['monkey'])  # KeyError: 'monkey' not a key of d"
   ]
  },
  {
   "cell_type": "code",
   "execution_count": null,
   "metadata": {
    "id": "8TjbEWqML9gl"
   },
   "outputs": [],
   "source": [
    "print(d.get('monkey', 'N/A'))  # Get an element with a default; prints \"N/A\"\n",
    "print(d.get('fish', 'N/A'))    # Get an element with a default; prints \"wet\""
   ]
  },
  {
   "cell_type": "code",
   "execution_count": null,
   "metadata": {
    "id": "0EItdNBJL9go"
   },
   "outputs": [],
   "source": [
    "del d['fish']        # Remove an element from a dictionary\n",
    "print(d.get('fish', 'N/A')) # \"fish\" is no longer a key; prints \"N/A\""
   ]
  },
  {
   "cell_type": "markdown",
   "metadata": {
    "id": "wqm4dRZNL9gr"
   },
   "source": [
    "You can find all you need to know about dictionaries in the [documentation](https://docs.python.org/2/library/stdtypes.html#dict)."
   ]
  },
  {
   "cell_type": "markdown",
   "metadata": {
    "id": "IxwEqHlGL9gr"
   },
   "source": [
    "It is easy to iterate over the keys in a dictionary:"
   ]
  },
  {
   "cell_type": "code",
   "execution_count": null,
   "metadata": {
    "id": "rYfz7ZKNL9gs"
   },
   "outputs": [],
   "source": [
    "d = {'person': 2, 'cat': 4, 'spider': 8}\n",
    "for animal, legs in d.items():\n",
    "    print('A {} has {} legs'.format(animal, legs))"
   ]
  },
  {
   "cell_type": "markdown",
   "metadata": {
    "id": "17sxiOpzL9gz"
   },
   "source": [
    "Dictionary comprehensions: These are similar to list comprehensions, but allow you to easily construct dictionaries. For example:"
   ]
  },
  {
   "cell_type": "code",
   "execution_count": null,
   "metadata": {
    "id": "8PB07imLL9gz"
   },
   "outputs": [],
   "source": [
    "nums = [0, 1, 2, 3, 4]\n",
    "even_num_to_square = {x: x ** 2 for x in nums if x % 2 == 0}\n",
    "print(even_num_to_square)"
   ]
  },
  {
   "cell_type": "markdown",
   "metadata": {
    "id": "V9MHfUdvL9g2"
   },
   "source": [
    "#### Sets"
   ]
  },
  {
   "cell_type": "markdown",
   "metadata": {
    "id": "Rpm4UtNpL9g2"
   },
   "source": [
    "A set is an unordered collection of distinct elements. As a simple example, consider the following:"
   ]
  },
  {
   "cell_type": "code",
   "execution_count": null,
   "metadata": {
    "id": "MmyaniLsL9g2"
   },
   "outputs": [],
   "source": [
    "animals = {'cat', 'dog'}\n",
    "print('cat' in animals)   # Check if an element is in a set; prints \"True\"\n",
    "print('fish' in animals)  # prints \"False\"\n"
   ]
  },
  {
   "cell_type": "code",
   "execution_count": null,
   "metadata": {
    "id": "ElJEyK86L9g6"
   },
   "outputs": [],
   "source": [
    "animals.add('fish')      # Add an element to a set\n",
    "print('fish' in animals)\n",
    "print(len(animals))       # Number of elements in a set;"
   ]
  },
  {
   "cell_type": "code",
   "execution_count": null,
   "metadata": {
    "id": "5uGmrxdPL9g9"
   },
   "outputs": [],
   "source": [
    "animals.add('cat')       # Adding an element that is already in the set does nothing\n",
    "print(len(animals))       \n",
    "animals.remove('cat')    # Remove an element from a set\n",
    "print(len(animals))       "
   ]
  },
  {
   "cell_type": "markdown",
   "metadata": {
    "id": "zk2DbvLKL9g_"
   },
   "source": [
    "_Loops_: Iterating over a set has the same syntax as iterating over a list; however since sets are unordered, you cannot make assumptions about the order in which you visit the elements of the set:"
   ]
  },
  {
   "cell_type": "code",
   "execution_count": null,
   "metadata": {
    "id": "K47KYNGyL9hA"
   },
   "outputs": [],
   "source": [
    "animals = {'cat', 'dog', 'fish'}\n",
    "for idx, animal in enumerate(animals):\n",
    "    print('#{}: {}'.format(idx + 1, animal))"
   ]
  },
  {
   "cell_type": "markdown",
   "metadata": {
    "id": "puq4S8buL9hC"
   },
   "source": [
    "Set comprehensions: Like lists and dictionaries, we can easily construct sets using set comprehensions:"
   ]
  },
  {
   "cell_type": "code",
   "execution_count": null,
   "metadata": {
    "id": "iw7k90k3L9hC"
   },
   "outputs": [],
   "source": [
    "from math import sqrt\n",
    "print({int(sqrt(x)) for x in range(30)})"
   ]
  },
  {
   "cell_type": "markdown",
   "metadata": {
    "id": "qPsHSKB1L9hF"
   },
   "source": [
    "#### Tuples"
   ]
  },
  {
   "cell_type": "markdown",
   "metadata": {
    "id": "kucc0LKVL9hG"
   },
   "source": [
    "A tuple is an (immutable) ordered list of values. A tuple is in many ways similar to a list; one of the most important differences is that tuples can be used as keys in dictionaries and as elements of sets, while lists cannot. Here is a trivial example:"
   ]
  },
  {
   "cell_type": "code",
   "execution_count": null,
   "metadata": {
    "id": "9wHUyTKxL9hH"
   },
   "outputs": [],
   "source": [
    "d = {(x, x + 1): x for x in range(10)}  # Create a dictionary with tuple keys\n",
    "t = (5, 6)       # Create a tuple\n",
    "print(type(t))\n",
    "print(d[t])       \n",
    "print(d[(1, 2)])"
   ]
  },
  {
   "cell_type": "code",
   "execution_count": null,
   "metadata": {
    "id": "HoO8zYKzL9hJ"
   },
   "outputs": [],
   "source": [
    "t[0] = 1"
   ]
  },
  {
   "cell_type": "markdown",
   "metadata": {
    "id": "AXA4jrEOL9hM"
   },
   "source": [
    "### Functions"
   ]
  },
  {
   "cell_type": "markdown",
   "metadata": {
    "id": "WaRms-QfL9hN"
   },
   "source": [
    "Python functions are defined using the `def` keyword. For example:"
   ]
  },
  {
   "cell_type": "code",
   "execution_count": null,
   "metadata": {
    "colab": {
     "base_uri": "https://localhost:8080/"
    },
    "id": "kiMDUr58L9hN",
    "outputId": "5b1db68c-195e-4819-b0d9-26ae5176c4d9"
   },
   "outputs": [],
   "source": [
    "def sign(x):\n",
    "    if x > 0:\n",
    "        return 'positive'\n",
    "    elif x < 0:\n",
    "        return 'negative'\n",
    "    else:\n",
    "        return 'zero'\n",
    "\n",
    "for x in [-1, 0, 1]:\n",
    "    print(sign(x))"
   ]
  },
  {
   "cell_type": "markdown",
   "metadata": {
    "id": "U-QJFt8TL9hR"
   },
   "source": [
    "We will often define functions to take optional keyword arguments, like this:"
   ]
  },
  {
   "cell_type": "code",
   "execution_count": null,
   "metadata": {
    "colab": {
     "base_uri": "https://localhost:8080/"
    },
    "id": "PfsZ3DazL9hR",
    "outputId": "9197b111-32cc-4f15-d987-f9893e0c50bf"
   },
   "outputs": [],
   "source": [
    "def hello(name, loud=False):\n",
    "    if loud:\n",
    "        print('HELLO, {}'.format(name.upper()))\n",
    "    else:\n",
    "        print('Hello, {}!'.format(name))\n",
    "\n",
    "hello('Bob')\n",
    "hello('Fred', loud=True)"
   ]
  },
  {
   "cell_type": "markdown",
   "metadata": {
    "id": "ObA9PRtQL9hT"
   },
   "source": [
    "### Classes"
   ]
  },
  {
   "cell_type": "markdown",
   "metadata": {
    "id": "hAzL_lTkL9hU"
   },
   "source": [
    "The syntax for defining classes in Python is straightforward:"
   ]
  },
  {
   "cell_type": "code",
   "execution_count": null,
   "metadata": {
    "colab": {
     "base_uri": "https://localhost:8080/"
    },
    "id": "RWdbaGigL9hU",
    "outputId": "d20cf3fc-e44a-40b6-cc79-4b0fe1639346"
   },
   "outputs": [],
   "source": [
    "class Greeter:\n",
    "\n",
    "    # Constructor\n",
    "    def __init__(self, name):\n",
    "        self.name = name  # Create an instance variable\n",
    "\n",
    "    # Instance method\n",
    "    def greet(self, loud=False):\n",
    "        if loud:\n",
    "          print('HELLO, {}'.format(self.name.upper()))\n",
    "        else:\n",
    "          print('Hello, {}!'.format(self.name))\n",
    "\n",
    "g = Greeter('Fred')  # Construct an instance of the Greeter class\n",
    "g.greet()            # Call an instance method; prints \"Hello, Fred\"\n",
    "g.greet(loud=True)   # Call an instance method; prints \"HELLO, FRED!\""
   ]
  },
  {
   "cell_type": "markdown",
   "metadata": {
    "id": "3cfrOV4dL9hW"
   },
   "source": [
    "## Numpy"
   ]
  },
  {
   "cell_type": "markdown",
   "metadata": {
    "id": "fY12nHhyL9hX"
   },
   "source": [
    "Numpy is the core library for scientific computing in Python. It provides a high-performance multidimensional array object, and tools for working with these arrays. If you are already familiar with MATLAB, you might find this [tutorial](http://wiki.scipy.org/NumPy_for_Matlab_Users) useful to get started with Numpy."
   ]
  },
  {
   "cell_type": "markdown",
   "metadata": {
    "id": "lZMyAdqhL9hY"
   },
   "source": [
    "To use Numpy, we first need to import the `numpy` package:"
   ]
  },
  {
   "cell_type": "code",
   "execution_count": null,
   "metadata": {
    "id": "58QdX8BLL9hZ"
   },
   "outputs": [],
   "source": [
    "import numpy as np"
   ]
  },
  {
   "cell_type": "markdown",
   "metadata": {
    "id": "DDx6v1EdL9hb"
   },
   "source": [
    "### Arrays"
   ]
  },
  {
   "cell_type": "markdown",
   "metadata": {
    "id": "f-Zv3f7LL9hc"
   },
   "source": [
    "A numpy array is a grid of values, all of the same type, and is indexed by a tuple of nonnegative integers. The number of dimensions is the rank of the array; the shape of an array is a tuple of integers giving the size of the array along each dimension."
   ]
  },
  {
   "cell_type": "markdown",
   "metadata": {
    "id": "_eMTRnZRL9hc"
   },
   "source": [
    "We can initialize numpy arrays from nested Python lists, and access elements using square brackets:"
   ]
  },
  {
   "cell_type": "code",
   "execution_count": null,
   "metadata": {
    "colab": {
     "base_uri": "https://localhost:8080/",
     "height": 52
    },
    "id": "-l3JrGxCL9hc",
    "outputId": "8d9dad18-c734-4a8a-ca8c-44060a40fb79"
   },
   "outputs": [],
   "source": [
    "a = np.array([1, 2, 3])  # Create a rank 1 array\n",
    "print(type(a), a.shape, a[0], a[1], a[2])\n",
    "a[0] = 5                 # Change an element of the array\n",
    "print(a)                  "
   ]
  },
  {
   "cell_type": "code",
   "execution_count": null,
   "metadata": {
    "colab": {
     "base_uri": "https://localhost:8080/",
     "height": 52
    },
    "id": "ma6mk-kdL9hh",
    "outputId": "0b54ff2f-e7f1-4b30-c653-9bf81cb8fbb0"
   },
   "outputs": [],
   "source": [
    "b = np.array([[1,2,3],[4,5,6]])   # Create a rank 2 array\n",
    "print(b)"
   ]
  },
  {
   "cell_type": "code",
   "execution_count": null,
   "metadata": {
    "colab": {
     "base_uri": "https://localhost:8080/",
     "height": 52
    },
    "id": "ymfSHAwtL9hj",
    "outputId": "5bd292d8-c751-43b9-d480-f357dde52342"
   },
   "outputs": [],
   "source": [
    "print(b.shape)\n",
    "print(b[0, 0], b[0, 1], b[1, 0])"
   ]
  },
  {
   "cell_type": "markdown",
   "metadata": {
    "id": "F2qwdyvuL9hn"
   },
   "source": [
    "Numpy also provides many functions to create arrays:"
   ]
  },
  {
   "cell_type": "code",
   "execution_count": null,
   "metadata": {
    "colab": {
     "base_uri": "https://localhost:8080/",
     "height": 52
    },
    "id": "mVTN_EBqL9hn",
    "outputId": "d267c65f-ba90-4043-cedb-f468ab1bcc5d"
   },
   "outputs": [],
   "source": [
    "a = np.zeros((2,2))  # Create an array of all zeros\n",
    "print(a)"
   ]
  },
  {
   "cell_type": "code",
   "execution_count": null,
   "metadata": {
    "colab": {
     "base_uri": "https://localhost:8080/",
     "height": 34
    },
    "id": "skiKlNmlL9h5",
    "outputId": "7d1ec1b5-a1fe-4f44-cbe3-cdeacad425f1"
   },
   "outputs": [],
   "source": [
    "b = np.ones((1,2))   # Create an array of all ones\n",
    "print(b)"
   ]
  },
  {
   "cell_type": "code",
   "execution_count": null,
   "metadata": {
    "colab": {
     "base_uri": "https://localhost:8080/",
     "height": 52
    },
    "id": "HtFsr03bL9h7",
    "outputId": "2688b157-2fad-4fc6-f20b-8633207f0326"
   },
   "outputs": [],
   "source": [
    "c = np.full((2,2), 7) # Create a constant array\n",
    "print(c)"
   ]
  },
  {
   "cell_type": "code",
   "execution_count": null,
   "metadata": {
    "colab": {
     "base_uri": "https://localhost:8080/",
     "height": 52
    },
    "id": "-QcALHvkL9h9",
    "outputId": "5035d6fe-cb7e-4222-c972-55fe23c9d4c0"
   },
   "outputs": [],
   "source": [
    "d = np.eye(2)        # Create a 2x2 identity matrix\n",
    "print(d)"
   ]
  },
  {
   "cell_type": "code",
   "execution_count": null,
   "metadata": {
    "colab": {
     "base_uri": "https://localhost:8080/",
     "height": 52
    },
    "id": "RCpaYg9qL9iA",
    "outputId": "25f0b387-39cf-42f3-8701-de860cc75e2e"
   },
   "outputs": [],
   "source": [
    "e = np.random.random((2,2)) # Create an array filled with random values\n",
    "print(e)"
   ]
  },
  {
   "cell_type": "markdown",
   "metadata": {
    "id": "jI5qcSDfL9iC"
   },
   "source": [
    "### Array indexing"
   ]
  },
  {
   "cell_type": "markdown",
   "metadata": {
    "id": "M-E4MUeVL9iC"
   },
   "source": [
    "Numpy offers several ways to index into arrays."
   ]
  },
  {
   "cell_type": "markdown",
   "metadata": {
    "id": "QYv4JyIEL9iD"
   },
   "source": [
    "Slicing: Similar to Python lists, numpy arrays can be sliced. Since arrays may be multidimensional, you must specify a slice for each dimension of the array:"
   ]
  },
  {
   "cell_type": "code",
   "execution_count": null,
   "metadata": {
    "colab": {
     "base_uri": "https://localhost:8080/",
     "height": 52
    },
    "id": "wLWA0udwL9iD",
    "outputId": "99f08618-c513-4982-8982-b146fc72dab3"
   },
   "outputs": [],
   "source": [
    "import numpy as np\n",
    "\n",
    "# Create the following rank 2 array with shape (3, 4)\n",
    "# [[ 1  2  3  4]\n",
    "#  [ 5  6  7  8]\n",
    "#  [ 9 10 11 12]]\n",
    "a = np.array([[1,2,3,4], [5,6,7,8], [9,10,11,12]])\n",
    "\n",
    "# Use slicing to pull out the subarray consisting of the first 2 rows\n",
    "# and columns 1 and 2; b is the following array of shape (2, 2):\n",
    "# [[2 3]\n",
    "#  [6 7]]\n",
    "b = a[:2, 1:3]\n",
    "print(b)"
   ]
  },
  {
   "cell_type": "markdown",
   "metadata": {
    "id": "KahhtZKYL9iF"
   },
   "source": [
    "A slice of an array is a view into the same data, so modifying it will modify the original array."
   ]
  },
  {
   "cell_type": "code",
   "execution_count": null,
   "metadata": {
    "colab": {
     "base_uri": "https://localhost:8080/",
     "height": 52
    },
    "id": "1kmtaFHuL9iG",
    "outputId": "ee3ab60c-4064-4a9e-b04c-453d3955f1d1"
   },
   "outputs": [],
   "source": [
    "print(a[0, 1])\n",
    "b[0, 0] = 77    # b[0, 0] is the same piece of data as a[0, 1]\n",
    "print(a[0, 1]) "
   ]
  },
  {
   "cell_type": "markdown",
   "metadata": {
    "id": "_Zcf3zi-L9iI"
   },
   "source": [
    "You can also mix integer indexing with slice indexing. However, doing so will yield an array of lower rank than the original array. Note that this is quite different from the way that MATLAB handles array slicing:"
   ]
  },
  {
   "cell_type": "code",
   "execution_count": null,
   "metadata": {
    "colab": {
     "base_uri": "https://localhost:8080/",
     "height": 69
    },
    "id": "G6lfbPuxL9iJ",
    "outputId": "a225fe9d-2a29-4e14-a243-2b7d583bd4bc"
   },
   "outputs": [],
   "source": [
    "# Create the following rank 2 array with shape (3, 4)\n",
    "a = np.array([[1,2,3,4], [5,6,7,8], [9,10,11,12]])\n",
    "print(a)"
   ]
  },
  {
   "cell_type": "markdown",
   "metadata": {
    "id": "NCye3NXhL9iL"
   },
   "source": [
    "Two ways of accessing the data in the middle row of the array.\n",
    "Mixing integer indexing with slices yields an array of lower rank,\n",
    "while using only slices yields an array of the same rank as the\n",
    "original array:"
   ]
  },
  {
   "cell_type": "code",
   "execution_count": null,
   "metadata": {
    "colab": {
     "base_uri": "https://localhost:8080/",
     "height": 69
    },
    "id": "EOiEMsmNL9iL",
    "outputId": "ab2ebe48-9002-45a8-9462-fd490b467f40"
   },
   "outputs": [],
   "source": [
    "row_r1 = a[1, :]    # Rank 1 view of the second row of a  \n",
    "row_r2 = a[1:2, :]  # Rank 2 view of the second row of a\n",
    "row_r3 = a[[1], :]  # Rank 2 view of the second row of a\n",
    "print(row_r1, row_r1.shape)\n",
    "print(row_r2, row_r2.shape)\n",
    "print(row_r3, row_r3.shape)"
   ]
  },
  {
   "cell_type": "code",
   "execution_count": null,
   "metadata": {
    "colab": {
     "base_uri": "https://localhost:8080/",
     "height": 104
    },
    "id": "JXu73pfDL9iN",
    "outputId": "6c589b85-e9b0-4c13-a39d-4cd9fb2f41ac"
   },
   "outputs": [],
   "source": [
    "# We can make the same distinction when accessing columns of an array:\n",
    "col_r1 = a[:, 1]\n",
    "col_r2 = a[:, 1:2]\n",
    "print(col_r1, col_r1.shape)\n",
    "print()\n",
    "print(col_r2, col_r2.shape)"
   ]
  },
  {
   "cell_type": "markdown",
   "metadata": {
    "id": "VP3916bOL9iP"
   },
   "source": [
    "Integer array indexing: When you index into numpy arrays using slicing, the resulting array view will always be a subarray of the original array. In contrast, integer array indexing allows you to construct arbitrary arrays using the data from another array. Here is an example:"
   ]
  },
  {
   "cell_type": "code",
   "execution_count": null,
   "metadata": {
    "colab": {
     "base_uri": "https://localhost:8080/",
     "height": 52
    },
    "id": "TBnWonIDL9iP",
    "outputId": "c29fa2cd-234e-4765-c70a-6889acc63573"
   },
   "outputs": [],
   "source": [
    "a = np.array([[1,2], [3, 4], [5, 6]])\n",
    "\n",
    "# An example of integer array indexing.\n",
    "# The returned array will have shape (3,) and \n",
    "print(a[[0, 1, 2], [0, 1, 0]])\n",
    "\n",
    "# The above example of integer array indexing is equivalent to this:\n",
    "print(np.array([a[0, 0], a[1, 1], a[2, 0]]))"
   ]
  },
  {
   "cell_type": "code",
   "execution_count": null,
   "metadata": {
    "colab": {
     "base_uri": "https://localhost:8080/",
     "height": 52
    },
    "id": "n7vuati-L9iR",
    "outputId": "c3e9ba14-f66e-4202-999e-2e1aed5bd631"
   },
   "outputs": [],
   "source": [
    "# When using integer array indexing, you can reuse the same\n",
    "# element from the source array:\n",
    "print(a[[0, 0], [1, 1]])\n",
    "\n",
    "# Equivalent to the previous integer array indexing example\n",
    "print(np.array([a[0, 1], a[0, 1]]))"
   ]
  },
  {
   "cell_type": "markdown",
   "metadata": {
    "id": "kaipSLafL9iU"
   },
   "source": [
    "One useful trick with integer array indexing is selecting or mutating one element from each row of a matrix:"
   ]
  },
  {
   "cell_type": "code",
   "execution_count": null,
   "metadata": {
    "colab": {
     "base_uri": "https://localhost:8080/",
     "height": 86
    },
    "id": "ehqsV7TXL9iU",
    "outputId": "de509c40-4ee4-4b7c-e75d-1a936a3350e7"
   },
   "outputs": [],
   "source": [
    "# Create a new array from which we will select elements\n",
    "a = np.array([[1,2,3], [4,5,6], [7,8,9], [10, 11, 12]])\n",
    "print(a)"
   ]
  },
  {
   "cell_type": "code",
   "execution_count": null,
   "metadata": {
    "colab": {
     "base_uri": "https://localhost:8080/",
     "height": 34
    },
    "id": "pAPOoqy5L9iV",
    "outputId": "f812e29b-9218-4767-d3a8-e9854e754e68"
   },
   "outputs": [],
   "source": [
    "# Create an array of indices\n",
    "b = np.array([0, 2, 0, 1])\n",
    "\n",
    "# Select one element from each row of a using the indices in b\n",
    "print(a[np.arange(4), b])  # Prints \"[ 1  6  7 11]\""
   ]
  },
  {
   "cell_type": "code",
   "execution_count": null,
   "metadata": {
    "colab": {
     "base_uri": "https://localhost:8080/",
     "height": 86
    },
    "id": "6v1PdI1DL9ib",
    "outputId": "89f50f82-de1b-4417-e55c-edbc0ee07584"
   },
   "outputs": [],
   "source": [
    "# Mutate one element from each row of a using the indices in b\n",
    "a[np.arange(4), b] += 10\n",
    "print(a)"
   ]
  },
  {
   "cell_type": "markdown",
   "metadata": {
    "id": "kaE8dBGgL9id"
   },
   "source": [
    "Boolean array indexing: Boolean array indexing lets you pick out arbitrary elements of an array. Frequently this type of indexing is used to select the elements of an array that satisfy some condition. Here is an example:"
   ]
  },
  {
   "cell_type": "code",
   "execution_count": null,
   "metadata": {
    "colab": {
     "base_uri": "https://localhost:8080/",
     "height": 69
    },
    "id": "32PusjtKL9id",
    "outputId": "8782e8ec-b78d-44d7-8141-23e39750b854"
   },
   "outputs": [],
   "source": [
    "import numpy as np\n",
    "\n",
    "a = np.array([[1,2], [3, 4], [5, 6]])\n",
    "\n",
    "bool_idx = (a > 2)  # Find the elements of a that are bigger than 2;\n",
    "                    # this returns a numpy array of Booleans of the same\n",
    "                    # shape as a, where each slot of bool_idx tells\n",
    "                    # whether that element of a is > 2.\n",
    "\n",
    "print(bool_idx)"
   ]
  },
  {
   "cell_type": "code",
   "execution_count": null,
   "metadata": {
    "colab": {
     "base_uri": "https://localhost:8080/",
     "height": 52
    },
    "id": "cb2IRMXaL9if",
    "outputId": "5983f208-3738-472d-d6ab-11fe85b36c95"
   },
   "outputs": [],
   "source": [
    "# We use boolean array indexing to construct a rank 1 array\n",
    "# consisting of the elements of a corresponding to the True values\n",
    "# of bool_idx\n",
    "print(a[bool_idx])\n",
    "\n",
    "# We can do all of the above in a single concise statement:\n",
    "print(a[a > 2])"
   ]
  },
  {
   "cell_type": "markdown",
   "metadata": {
    "id": "CdofMonAL9ih"
   },
   "source": [
    "For brevity we have left out a lot of details about numpy array indexing; if you want to know more you should read the documentation."
   ]
  },
  {
   "cell_type": "markdown",
   "metadata": {
    "id": "jTctwqdQL9ih"
   },
   "source": [
    "### Datatypes"
   ]
  },
  {
   "cell_type": "markdown",
   "metadata": {
    "id": "kSZQ1WkIL9ih"
   },
   "source": [
    "Every numpy array is a grid of elements of the same type. Numpy provides a large set of numeric datatypes that you can use to construct arrays. Numpy tries to guess a datatype when you create an array, but functions that construct arrays usually also include an optional argument to explicitly specify the datatype. Here is an example:"
   ]
  },
  {
   "cell_type": "code",
   "execution_count": null,
   "metadata": {
    "colab": {
     "base_uri": "https://localhost:8080/",
     "height": 34
    },
    "id": "4za4O0m5L9ih",
    "outputId": "2ea4fb80-a4df-43f9-c162-5665895c13ae"
   },
   "outputs": [],
   "source": [
    "x = np.array([1, 2])  # Let numpy choose the datatype\n",
    "y = np.array([1.0, 2.0])  # Let numpy choose the datatype\n",
    "z = np.array([1, 2], dtype=np.int64)  # Force a particular datatype\n",
    "\n",
    "print(x.dtype, y.dtype, z.dtype)"
   ]
  },
  {
   "cell_type": "markdown",
   "metadata": {
    "id": "RLVIsZQpL9ik"
   },
   "source": [
    "You can read all about numpy datatypes in the [documentation](http://docs.scipy.org/doc/numpy/reference/arrays.dtypes.html)."
   ]
  },
  {
   "cell_type": "markdown",
   "metadata": {
    "id": "TuB-fdhIL9ik"
   },
   "source": [
    "### Array math"
   ]
  },
  {
   "cell_type": "markdown",
   "metadata": {
    "id": "18e8V8elL9ik"
   },
   "source": [
    "Basic mathematical functions operate elementwise on arrays, and are available both as operator overloads and as functions in the numpy module:"
   ]
  },
  {
   "cell_type": "code",
   "execution_count": null,
   "metadata": {
    "colab": {
     "base_uri": "https://localhost:8080/",
     "height": 86
    },
    "id": "gHKvBrSKL9il",
    "outputId": "a8a924b1-9d60-4b68-8fd3-e4657ae3f08b"
   },
   "outputs": [],
   "source": [
    "x = np.array([[1,2],[3,4]], dtype=np.float64)\n",
    "y = np.array([[5,6],[7,8]], dtype=np.float64)\n",
    "\n",
    "# Elementwise sum; both produce the array\n",
    "print(x + y)\n",
    "print(np.add(x, y))"
   ]
  },
  {
   "cell_type": "code",
   "execution_count": null,
   "metadata": {
    "colab": {
     "base_uri": "https://localhost:8080/",
     "height": 86
    },
    "id": "1fZtIAMxL9in",
    "outputId": "122f1380-6144-4d6c-9d31-f62d839889a2"
   },
   "outputs": [],
   "source": [
    "# Elementwise difference; both produce the array\n",
    "print(x - y)\n",
    "print(np.subtract(x, y))"
   ]
  },
  {
   "cell_type": "code",
   "execution_count": null,
   "metadata": {
    "colab": {
     "base_uri": "https://localhost:8080/",
     "height": 86
    },
    "id": "nil4AScML9io",
    "outputId": "038c8bb2-122b-4e59-c0a8-a091014fe68e"
   },
   "outputs": [],
   "source": [
    "# Elementwise product; both produce the array\n",
    "print(x * y)\n",
    "print(np.multiply(x, y))"
   ]
  },
  {
   "cell_type": "code",
   "execution_count": null,
   "metadata": {
    "colab": {
     "base_uri": "https://localhost:8080/",
     "height": 86
    },
    "id": "0JoA4lH6L9ip",
    "outputId": "12351a74-7871-4bc2-97ce-a508bf4810da"
   },
   "outputs": [],
   "source": [
    "# Elementwise division; both produce the array\n",
    "# [[ 0.2         0.33333333]\n",
    "#  [ 0.42857143  0.5       ]]\n",
    "print(x / y)\n",
    "print(np.divide(x, y))"
   ]
  },
  {
   "cell_type": "code",
   "execution_count": null,
   "metadata": {
    "colab": {
     "base_uri": "https://localhost:8080/",
     "height": 52
    },
    "id": "g0iZuA6bL9ir",
    "outputId": "29927dda-4167-4aa8-fbda-9008b09e4356"
   },
   "outputs": [],
   "source": [
    "# Elementwise square root; produces the array\n",
    "# [[ 1.          1.41421356]\n",
    "#  [ 1.73205081  2.        ]]\n",
    "print(np.sqrt(x))"
   ]
  },
  {
   "cell_type": "markdown",
   "metadata": {
    "id": "a5d_uujuL9it"
   },
   "source": [
    "Note that unlike MATLAB, `*` is elementwise multiplication, not matrix multiplication. We instead use the dot function to compute inner products of vectors, to multiply a vector by a matrix, and to multiply matrices. dot is available both as a function in the numpy module and as an instance method of array objects:"
   ]
  },
  {
   "cell_type": "code",
   "execution_count": null,
   "metadata": {
    "colab": {
     "base_uri": "https://localhost:8080/",
     "height": 52
    },
    "id": "I3FnmoSeL9iu",
    "outputId": "46f4575a-2e5e-4347-a34e-0cc5bd280110"
   },
   "outputs": [],
   "source": [
    "x = np.array([[1,2],[3,4]])\n",
    "y = np.array([[5,6],[7,8]])\n",
    "\n",
    "v = np.array([9,10])\n",
    "w = np.array([11, 12])\n",
    "\n",
    "# Inner product of vectors; both produce 219\n",
    "print(v.dot(w))\n",
    "print(np.dot(v, w))"
   ]
  },
  {
   "cell_type": "markdown",
   "metadata": {
    "id": "vmxPbrHASVeA"
   },
   "source": [
    "You can also use the `@` operator which is equivalent to numpy's `dot` operator."
   ]
  },
  {
   "cell_type": "code",
   "execution_count": null,
   "metadata": {
    "colab": {
     "base_uri": "https://localhost:8080/",
     "height": 34
    },
    "id": "vyrWA-mXSdtt",
    "outputId": "a9aae545-2c93-4649-b220-b097655955f6"
   },
   "outputs": [],
   "source": [
    "print(v @ w)"
   ]
  },
  {
   "cell_type": "code",
   "execution_count": null,
   "metadata": {
    "colab": {
     "base_uri": "https://localhost:8080/",
     "height": 69
    },
    "id": "zvUODeTxL9iw",
    "outputId": "4093fc76-094f-4453-a421-a212b5226968"
   },
   "outputs": [],
   "source": [
    "# Matrix / vector product; both produce the rank 1 array [29 67]\n",
    "print(x.dot(v))\n",
    "print(np.dot(x, v))\n",
    "print(x @ v)"
   ]
  },
  {
   "cell_type": "code",
   "execution_count": null,
   "metadata": {
    "colab": {
     "base_uri": "https://localhost:8080/",
     "height": 121
    },
    "id": "3V_3NzNEL9iy",
    "outputId": "af2a89f9-af5d-47a6-9ad2-06a84b521b94"
   },
   "outputs": [],
   "source": [
    "# Matrix / matrix product; both produce the rank 2 array\n",
    "# [[19 22]\n",
    "#  [43 50]]\n",
    "print(x.dot(y))\n",
    "print(np.dot(x, y))\n",
    "print(x @ y)"
   ]
  },
  {
   "cell_type": "markdown",
   "metadata": {
    "id": "FbE-1If_L9i0"
   },
   "source": [
    "Numpy provides many useful functions for performing computations on arrays; one of the most useful is `sum`:"
   ]
  },
  {
   "cell_type": "code",
   "execution_count": null,
   "metadata": {
    "colab": {
     "base_uri": "https://localhost:8080/",
     "height": 69
    },
    "id": "DZUdZvPrL9i0",
    "outputId": "99cad470-d692-4b25-91c9-a57aa25f4c6e"
   },
   "outputs": [],
   "source": [
    "x = np.array([[1,2],[3,4]])\n",
    "\n",
    "print(np.sum(x))  # Compute sum of all elements; prints \"10\"\n",
    "print(np.sum(x, axis=0))  # Compute sum of each column; prints \"[4 6]\"\n",
    "print(np.sum(x, axis=1))  # Compute sum of each row; prints \"[3 7]\""
   ]
  },
  {
   "cell_type": "markdown",
   "metadata": {
    "id": "ahdVW4iUL9i3"
   },
   "source": [
    "You can find the full list of mathematical functions provided by numpy in the [documentation](http://docs.scipy.org/doc/numpy/reference/routines.math.html).\n",
    "\n",
    "Apart from computing mathematical functions using arrays, we frequently need to reshape or otherwise manipulate data in arrays. The simplest example of this type of operation is transposing a matrix; to transpose a matrix, simply use the T attribute of an array object:"
   ]
  },
  {
   "cell_type": "code",
   "execution_count": null,
   "metadata": {
    "colab": {
     "base_uri": "https://localhost:8080/",
     "height": 104
    },
    "id": "63Yl1f3oL9i3",
    "outputId": "c75ac7ba-4351-42f8-a09c-a4e0d966ab50"
   },
   "outputs": [],
   "source": [
    "print(x)\n",
    "print(\"transpose\\n\", x.T)"
   ]
  },
  {
   "cell_type": "code",
   "execution_count": null,
   "metadata": {
    "colab": {
     "base_uri": "https://localhost:8080/",
     "height": 104
    },
    "id": "mkk03eNIL9i4",
    "outputId": "499eec5a-55b7-473a-d4aa-9d023d63885a"
   },
   "outputs": [],
   "source": [
    "v = np.array([[1,2,3]])\n",
    "print(v )\n",
    "print(\"transpose\\n\", v.T)"
   ]
  },
  {
   "cell_type": "markdown",
   "metadata": {
    "id": "REfLrUTcL9i7"
   },
   "source": [
    "### Broadcasting"
   ]
  },
  {
   "cell_type": "markdown",
   "metadata": {
    "id": "EygGAMWqL9i7"
   },
   "source": [
    "Broadcasting is a powerful mechanism that allows numpy to work with arrays of different shapes when performing arithmetic operations. Frequently we have a smaller array and a larger array, and we want to use the smaller array multiple times to perform some operation on the larger array.\n",
    "\n",
    "For example, suppose that we want to add a constant vector to each row of a matrix. We could do it like this:"
   ]
  },
  {
   "cell_type": "code",
   "execution_count": null,
   "metadata": {
    "colab": {
     "base_uri": "https://localhost:8080/",
     "height": 86
    },
    "id": "WEEvkV1ZL9i7",
    "outputId": "3896d03c-3ece-4aa8-f675-aef3a220574d"
   },
   "outputs": [],
   "source": [
    "# We will add the vector v to each row of the matrix x,\n",
    "# storing the result in the matrix y\n",
    "x = np.array([[1,2,3], [4,5,6], [7,8,9], [10, 11, 12]])\n",
    "v = np.array([1, 0, 1])\n",
    "y = np.empty_like(x)   # Create an empty matrix with the same shape as x\n",
    "\n",
    "# Add the vector v to each row of the matrix x with an explicit loop\n",
    "for i in range(4):\n",
    "    y[i, :] = x[i, :] + v\n",
    "\n",
    "print(y)"
   ]
  },
  {
   "cell_type": "markdown",
   "metadata": {
    "id": "2OlXXupEL9i-"
   },
   "source": [
    "This works; however when the matrix `x` is very large, computing an explicit loop in Python could be slow. Note that adding the vector v to each row of the matrix `x` is equivalent to forming a matrix `vv` by stacking multiple copies of `v` vertically, then performing elementwise summation of `x` and `vv`. We could implement this approach like this:"
   ]
  },
  {
   "cell_type": "code",
   "execution_count": null,
   "metadata": {
    "colab": {
     "base_uri": "https://localhost:8080/",
     "height": 86
    },
    "id": "vS7UwAQQL9i-",
    "outputId": "8621e502-c25d-4a18-c973-886dbfd1df36"
   },
   "outputs": [],
   "source": [
    "vv = np.tile(v, (4, 1))  # Stack 4 copies of v on top of each other\n",
    "print(vv)                # Prints \"[[1 0 1]\n",
    "                         #          [1 0 1]\n",
    "                         #          [1 0 1]\n",
    "                         #          [1 0 1]]\""
   ]
  },
  {
   "cell_type": "code",
   "execution_count": null,
   "metadata": {
    "colab": {
     "base_uri": "https://localhost:8080/",
     "height": 86
    },
    "id": "N0hJphSIL9jA",
    "outputId": "def6a757-170c-43bf-8728-732dfb133273"
   },
   "outputs": [],
   "source": [
    "y = x + vv  # Add x and vv elementwise\n",
    "print(y)"
   ]
  },
  {
   "cell_type": "markdown",
   "metadata": {
    "id": "zHos6RJnL9jB"
   },
   "source": [
    "Numpy broadcasting allows us to perform this computation without actually creating multiple copies of v. Consider this version, using broadcasting:"
   ]
  },
  {
   "cell_type": "code",
   "execution_count": null,
   "metadata": {
    "colab": {
     "base_uri": "https://localhost:8080/",
     "height": 86
    },
    "id": "vnYFb-gYL9jC",
    "outputId": "df3bea8a-ad72-4a83-90bb-306b55c6fb93"
   },
   "outputs": [],
   "source": [
    "import numpy as np\n",
    "\n",
    "# We will add the vector v to each row of the matrix x,\n",
    "# storing the result in the matrix y\n",
    "x = np.array([[1,2,3], [4,5,6], [7,8,9], [10, 11, 12]])\n",
    "v = np.array([1, 0, 1])\n",
    "y = x + v  # Add v to each row of x using broadcasting\n",
    "print(y)"
   ]
  },
  {
   "cell_type": "markdown",
   "metadata": {
    "id": "08YyIURKL9jH"
   },
   "source": [
    "The line `y = x + v` works even though `x` has shape `(4, 3)` and `v` has shape `(3,)` due to broadcasting; this line works as if v actually had shape `(4, 3)`, where each row was a copy of `v`, and the sum was performed elementwise.\n",
    "\n",
    "Broadcasting two arrays together follows these rules:\n",
    "\n",
    "1. If the arrays do not have the same rank, prepend the shape of the lower rank array with 1s until both shapes have the same length.\n",
    "2. The two arrays are said to be compatible in a dimension if they have the same size in the dimension, or if one of the arrays has size 1 in that dimension.\n",
    "3. The arrays can be broadcast together if they are compatible in all dimensions.\n",
    "4. After broadcasting, each array behaves as if it had shape equal to the elementwise maximum of shapes of the two input arrays.\n",
    "5. In any dimension where one array had size 1 and the other array had size greater than 1, the first array behaves as if it were copied along that dimension\n",
    "\n",
    "If this explanation does not make sense, try reading the explanation from the [documentation](http://docs.scipy.org/doc/numpy/user/basics.broadcasting.html) or this [explanation](http://wiki.scipy.org/EricsBroadcastingDoc).\n",
    "\n",
    "Functions that support broadcasting are known as universal functions. You can find the list of all universal functions in the [documentation](http://docs.scipy.org/doc/numpy/reference/ufuncs.html#available-ufuncs).\n",
    "\n",
    "Here are some applications of broadcasting:"
   ]
  },
  {
   "cell_type": "code",
   "execution_count": null,
   "metadata": {
    "colab": {
     "base_uri": "https://localhost:8080/",
     "height": 69
    },
    "id": "EmQnwoM9L9jH",
    "outputId": "f59e181e-e2d4-416c-d094-c4d003ce8509"
   },
   "outputs": [],
   "source": [
    "# Compute outer product of vectors\n",
    "v = np.array([1,2,3])  # v has shape (3,)\n",
    "w = np.array([4,5])    # w has shape (2,)\n",
    "# To compute an outer product, we first reshape v to be a column\n",
    "# vector of shape (3, 1); we can then broadcast it against w to yield\n",
    "# an output of shape (3, 2), which is the outer product of v and w:\n",
    "\n",
    "print(np.reshape(v, (3, 1)) * w)"
   ]
  },
  {
   "cell_type": "code",
   "execution_count": null,
   "metadata": {
    "colab": {
     "base_uri": "https://localhost:8080/",
     "height": 52
    },
    "id": "PgotmpcnL9jK",
    "outputId": "567763d3-073a-4e3c-9ebe-6c7d2b6d3446"
   },
   "outputs": [],
   "source": [
    "# Add a vector to each row of a matrix\n",
    "x = np.array([[1,2,3], [4,5,6]])\n",
    "# x has shape (2, 3) and v has shape (3,) so they broadcast to (2, 3),\n",
    "# giving the following matrix:\n",
    "\n",
    "print(x + v)"
   ]
  },
  {
   "cell_type": "code",
   "execution_count": null,
   "metadata": {
    "colab": {
     "base_uri": "https://localhost:8080/",
     "height": 52
    },
    "id": "T5hKS1QaL9jK",
    "outputId": "5f14ac5c-7a21-4216-e91d-cfce5720a804"
   },
   "outputs": [],
   "source": [
    "# Add a vector to each column of a matrix\n",
    "# x has shape (2, 3) and w has shape (2,).\n",
    "# If we transpose x then it has shape (3, 2) and can be broadcast\n",
    "# against w to yield a result of shape (3, 2); transposing this result\n",
    "# yields the final result of shape (2, 3) which is the matrix x with\n",
    "# the vector w added to each column. Gives the following matrix:\n",
    "\n",
    "print((x.T + w).T)"
   ]
  },
  {
   "cell_type": "code",
   "execution_count": null,
   "metadata": {
    "colab": {
     "base_uri": "https://localhost:8080/",
     "height": 52
    },
    "id": "JDUrZUl6L9jN",
    "outputId": "53e99a89-c599-406d-9fe3-7aa35ae5fb90"
   },
   "outputs": [],
   "source": [
    "# Another solution is to reshape w to be a row vector of shape (2, 1);\n",
    "# we can then broadcast it directly against x to produce the same\n",
    "# output.\n",
    "print(x + np.reshape(w, (2, 1)))"
   ]
  },
  {
   "cell_type": "code",
   "execution_count": null,
   "metadata": {
    "colab": {
     "base_uri": "https://localhost:8080/",
     "height": 52
    },
    "id": "VzrEo4KGL9jP",
    "outputId": "53c9d4cc-32d5-46b0-d090-53c7db57fb32"
   },
   "outputs": [],
   "source": [
    "# Multiply a matrix by a constant:\n",
    "# x has shape (2, 3). Numpy treats scalars as arrays of shape ();\n",
    "# these can be broadcast together to shape (2, 3), producing the\n",
    "# following array:\n",
    "print(x * 2)"
   ]
  },
  {
   "cell_type": "markdown",
   "metadata": {
    "id": "89e2FXxFL9jQ"
   },
   "source": [
    "Broadcasting typically makes your code more concise and faster, so you should strive to use it where possible."
   ]
  },
  {
   "cell_type": "markdown",
   "metadata": {
    "id": "iF3ZtwVNL9jQ"
   },
   "source": [
    "This brief overview has touched on many of the important things that you need to know about numpy, but is far from complete. Check out the [numpy reference](http://docs.scipy.org/doc/numpy/reference/) to find out much more about numpy."
   ]
  },
  {
   "cell_type": "markdown",
   "metadata": {
    "id": "tEINf4bEL9jR"
   },
   "source": [
    "##Matplotlib"
   ]
  },
  {
   "cell_type": "markdown",
   "metadata": {
    "id": "0hgVWLaXL9jR"
   },
   "source": [
    "Matplotlib is a plotting library. In this section give a brief introduction to the `matplotlib.pyplot` module, which provides a plotting system similar to that of MATLAB."
   ]
  },
  {
   "cell_type": "code",
   "execution_count": null,
   "metadata": {
    "id": "cmh_7c6KL9jR"
   },
   "outputs": [],
   "source": [
    "import matplotlib.pyplot as plt"
   ]
  },
  {
   "cell_type": "markdown",
   "metadata": {
    "id": "jOsaA5hGL9jS"
   },
   "source": [
    "By running this special iPython command, we will be displaying plots inline:"
   ]
  },
  {
   "cell_type": "code",
   "execution_count": null,
   "metadata": {
    "id": "ijpsmwGnL9jT"
   },
   "outputs": [],
   "source": [
    "%matplotlib inline"
   ]
  },
  {
   "cell_type": "markdown",
   "metadata": {
    "id": "U5Z_oMoLL9jV"
   },
   "source": [
    "###Plotting"
   ]
  },
  {
   "cell_type": "markdown",
   "metadata": {
    "id": "6QyFJ7dhL9jV"
   },
   "source": [
    "The most important function in `matplotlib` is plot, which allows you to plot 2D data. Here is a simple example:"
   ]
  },
  {
   "cell_type": "code",
   "execution_count": null,
   "metadata": {
    "colab": {
     "base_uri": "https://localhost:8080/",
     "height": 282
    },
    "id": "pua52BGeL9jW",
    "outputId": "9ac3ee0f-7ff7-463b-b901-c33d21a2b10c"
   },
   "outputs": [],
   "source": [
    "# Compute the x and y coordinates for points on a sine curve\n",
    "x = np.arange(0, 3 * np.pi, 0.1)\n",
    "y = np.sin(x)\n",
    "\n",
    "# Plot the points using matplotlib\n",
    "plt.plot(x, y)"
   ]
  },
  {
   "cell_type": "markdown",
   "metadata": {
    "id": "9W2VAcLiL9jX"
   },
   "source": [
    "With just a little bit of extra work we can easily plot multiple lines at once, and add a title, legend, and axis labels:"
   ]
  },
  {
   "cell_type": "code",
   "execution_count": null,
   "metadata": {
    "colab": {
     "base_uri": "https://localhost:8080/",
     "height": 312
    },
    "id": "TfCQHJ5AL9jY",
    "outputId": "fdb9c033-0f06-4041-a69d-a0f3a54c7206"
   },
   "outputs": [],
   "source": [
    "y_sin = np.sin(x)\n",
    "y_cos = np.cos(x)\n",
    "\n",
    "# Plot the points using matplotlib\n",
    "plt.plot(x, y_sin)\n",
    "plt.plot(x, y_cos)\n",
    "plt.xlabel('x axis label')\n",
    "plt.ylabel('y axis label')\n",
    "plt.title('Sine and Cosine')\n",
    "plt.legend(['Sine', 'Cosine'])"
   ]
  },
  {
   "cell_type": "markdown",
   "metadata": {
    "id": "R5IeAY03L9ja"
   },
   "source": [
    "### Subplots "
   ]
  },
  {
   "cell_type": "markdown",
   "metadata": {
    "id": "CfUzwJg0L9ja"
   },
   "source": [
    "You can plot different things in the same figure using the subplot function. Here is an example:"
   ]
  },
  {
   "cell_type": "code",
   "execution_count": null,
   "metadata": {
    "colab": {
     "base_uri": "https://localhost:8080/",
     "height": 281
    },
    "id": "dM23yGH9L9ja",
    "outputId": "14dfa5ea-f453-4da5-a2ee-fea0de8f72d9"
   },
   "outputs": [],
   "source": [
    "# Compute the x and y coordinates for points on sine and cosine curves\n",
    "x = np.arange(0, 3 * np.pi, 0.1)\n",
    "y_sin = np.sin(x)\n",
    "y_cos = np.cos(x)\n",
    "\n",
    "# Set up a subplot grid that has height 2 and width 1,\n",
    "# and set the first such subplot as active.\n",
    "plt.subplot(2, 1, 1)\n",
    "\n",
    "# Make the first plot\n",
    "plt.plot(x, y_sin)\n",
    "plt.title('Sine')\n",
    "\n",
    "# Set the second subplot as active, and make the second plot.\n",
    "plt.subplot(2, 1, 2)\n",
    "plt.plot(x, y_cos)\n",
    "plt.title('Cosine')\n",
    "\n",
    "# Show the figure.\n",
    "plt.show()"
   ]
  },
  {
   "cell_type": "markdown",
   "metadata": {
    "id": "gLtsST5SL9jc"
   },
   "source": [
    "You can read much more about the `subplot` function in the [documentation](http://matplotlib.org/api/pyplot_api.html#matplotlib.pyplot.subplot)."
   ]
  },
  {
   "cell_type": "markdown",
   "metadata": {
    "id": "9YtACAk5i40E"
   },
   "source": [
    "# OpenCV"
   ]
  },
  {
   "cell_type": "markdown",
   "metadata": {
    "id": "vV38aSPVjTNK"
   },
   "source": [
    "Writing An Image"
   ]
  },
  {
   "cell_type": "code",
   "execution_count": null,
   "metadata": {
    "colab": {
     "base_uri": "https://localhost:8080/"
    },
    "id": "DwC_vOn8i9vI",
    "outputId": "3b162ce0-425a-42d3-9ddf-ad4253074990"
   },
   "outputs": [],
   "source": [
    "import cv2\n",
    "import numpy as np\n",
    "path = \"/content/drive/MyDrive/day1/\"\n",
    "img = np.zeros((300,300,3))\n",
    "\n",
    "cv2.imwrite(path+\"first.png\",img)\n"
   ]
  },
  {
   "cell_type": "markdown",
   "metadata": {
    "id": "b_69mMNkjYd4"
   },
   "source": [
    "Reading An Image"
   ]
  },
  {
   "cell_type": "code",
   "execution_count": null,
   "metadata": {
    "colab": {
     "base_uri": "https://localhost:8080/",
     "height": 304
    },
    "id": "_0AiB6qfjcMz",
    "outputId": "d9376612-494c-43dc-a8fb-77a7ba5ba037"
   },
   "outputs": [],
   "source": [
    "import cv2\n",
    "import matplotlib.pyplot as plt\n",
    "path =\"/content/drive/MyDrive/day1/first.png\"\n",
    "image = cv2.imread(path)\n",
    "print(image.shape)\n",
    "plt.imshow(image)"
   ]
  },
  {
   "cell_type": "code",
   "execution_count": null,
   "metadata": {
    "id": "z7Il0UpPo7SD"
   },
   "outputs": [],
   "source": []
  }
 ],
 "metadata": {
  "colab": {
   "collapsed_sections": [
    "nxvEkGXPM3Xh",
    "JAFKYgrpL9eY",
    "NwS_hu4xL9eo",
    "p-6hClFjL9fk",
    "UsIWOe0LL9fn",
    "ovahhxd_L9f5",
    "UONpMhF4L9f_",
    "arrLCcMyL9gK",
    "H8xsUEFpL9gZ",
    "V9MHfUdvL9g2",
    "qPsHSKB1L9hF",
    "AXA4jrEOL9hM",
    "ObA9PRtQL9hT",
    "3cfrOV4dL9hW",
    "tEINf4bEL9jR",
    "9YtACAk5i40E"
   ],
   "name": "Python Basics.ipynb",
   "provenance": []
  },
  "kernelspec": {
   "display_name": "Python 3",
   "language": "python",
   "name": "python3"
  },
  "language_info": {
   "codemirror_mode": {
    "name": "ipython",
    "version": 3
   },
   "file_extension": ".py",
   "mimetype": "text/x-python",
   "name": "python",
   "nbconvert_exporter": "python",
   "pygments_lexer": "ipython3",
   "version": "3.8.2"
  }
 },
 "nbformat": 4,
 "nbformat_minor": 1
}
